{
 "cells": [
  {
   "cell_type": "code",
   "execution_count": 2,
   "id": "22815830-5b83-49ce-923f-af372dcdd098",
   "metadata": {
    "ExecuteTime": {
     "end_time": "2024-04-08T18:57:17.642673Z",
     "start_time": "2024-04-08T18:57:17.640033Z"
    }
   },
   "outputs": [],
   "source": [
    "import matplotlib.pyplot as plt\n",
    "import random as rd"
   ]
  },
  {
   "cell_type": "code",
   "execution_count": 3,
   "id": "394aed81-a7b7-4497-8357-36cb39c5f309",
   "metadata": {
    "ExecuteTime": {
     "end_time": "2024-04-08T18:57:24.615047Z",
     "start_time": "2024-04-08T18:57:24.610102Z"
    }
   },
   "outputs": [],
   "source": [
    "from dataclasses import dataclass, field\n",
    "\n",
    "@dataclass\n",
    "class MazeCell:\n",
    "    x: int\n",
    "    y: int\n",
    "    component: int\n",
    "    is_open: bool = field(default=False)\n",
    "    walls: list = field(default_factory=list)"
   ]
  },
  {
   "cell_type": "code",
   "execution_count": 4,
   "id": "b23fab15-b8d7-4a09-882f-6caf95b66c3b",
   "metadata": {
    "ExecuteTime": {
     "end_time": "2024-04-08T18:57:26.185237Z",
     "start_time": "2024-04-08T18:57:26.182019Z"
    }
   },
   "outputs": [],
   "source": [
    "N = 30\n",
    "LINE_WIDTH = 50"
   ]
  },
  {
   "cell_type": "code",
   "execution_count": 44,
   "id": "a7eb330f-fd7a-4dc2-a66c-8fb4bd73bc8a",
   "metadata": {
    "ExecuteTime": {
     "end_time": "2024-03-19T00:08:00.807361Z",
     "start_time": "2024-03-19T00:08:00.800835Z"
    }
   },
   "outputs": [],
   "source": [
    "def check_components(maze: list[MazeCell]):\n",
    "  component = maze[0].component\n",
    "  for i in range(N * N):\n",
    "    if component != maze[i].component:\n",
    "      return True\n",
    "\n",
    "\n",
    "# проверяет, лежат ли компоненты в одном множестве\n",
    "def find(x, y):\n",
    "  return x.component == y.component\n",
    "\n",
    "\n",
    "# находит все ячейки\n",
    "def find_cells(x, maze: list[MazeCell]):\n",
    "  cells = []\n",
    "  for cell in maze:\n",
    "    if cell.component == x:\n",
    "      cells.append(cell)\n",
    "  return cells\n",
    "\n",
    "\n",
    "def union(x, y, maze: list[MazeCell]):\n",
    "  if not find(x, y):\n",
    "    for cell in find_cells(y.component, maze):\n",
    "      cell.component = x.component\n",
    "    return True\n",
    "  return False\n",
    "\n",
    "\n",
    "def get_neighbours(x, y, maze: list[MazeCell]):\n",
    "  neighbours = []\n",
    "  for cell in maze:\n",
    "    if (x - 1 == cell.x and y == cell.y) or (x + 1 == cell.x and y == cell.y) or (y - 1 == cell.y and x == cell.x) or (\n",
    "        y + 1 == cell.y and x == cell.x):\n",
    "      neighbours.append(cell)\n",
    "\n",
    "  return neighbours\n",
    "\n",
    "\n",
    "def delete_walls(cell, neighbour):\n",
    "  x, y = neighbour.x - cell.x, neighbour.y - cell.y\n",
    "\n",
    "  if x > 0:\n",
    "    cell.walls[1] = False\n",
    "    neighbour.walls[3] = False\n",
    "  elif x < 0:\n",
    "    cell.walls[3] = False\n",
    "    neighbour.walls[1] = False\n",
    "\n",
    "  if y > 0:\n",
    "    cell.walls[2] = False\n",
    "    neighbour.walls[0] = False\n",
    "  elif y < 0:\n",
    "    cell.walls[0] = False\n",
    "    neighbour.walls[2] = False\n",
    "\n",
    "\n",
    "def rand_choice(maze: list[MazeCell]):\n",
    "  return rd.choice(maze)\n",
    "\n",
    "\n",
    "def generate_maze(N) -> list[MazeCell]:\n",
    "  maze = []\n",
    "  n = 0\n",
    "\n",
    "  for y in range(N):\n",
    "    for x in range(N):\n",
    "      maze.append(MazeCell(x, y, n, False, [True, True, True, True]))\n",
    "      n += 1\n",
    "\n",
    "  while check_components(maze):\n",
    "    cell = rand_choice(maze)\n",
    "\n",
    "    if cell is None:\n",
    "      break\n",
    "\n",
    "    x, y = cell.x, cell.y\n",
    "    neighbours = get_neighbours(x, y, maze)\n",
    "    neighbour = rd.choice(neighbours)\n",
    "\n",
    "    if union(cell, neighbour, maze):\n",
    "      delete_walls(cell, neighbour)\n",
    "\n",
    "  maze[0].is_open = True\n",
    "  maze[0].walls[0] = False\n",
    "  maze[-1].is_open = True\n",
    "  maze[-1].walls[2] = False\n",
    "  maze[29].is_open = True\n",
    "  maze[29].walls[1] = False\n",
    "  maze[870].is_open = True\n",
    "  maze[870].walls[3] = False\n",
    "\n",
    "  return maze\n"
   ]
  },
  {
   "cell_type": "code",
   "execution_count": 45,
   "id": "b3175704-175b-4b46-8d2e-6c7261008655",
   "metadata": {
    "ExecuteTime": {
     "end_time": "2024-03-19T00:08:00.858137Z",
     "start_time": "2024-03-19T00:08:00.843631Z"
    }
   },
   "outputs": [
    {
     "ename": "TypeError",
     "evalue": "generate_maze() takes 0 positional arguments but 1 was given",
     "output_type": "error",
     "traceback": [
      "\u001B[1;31m---------------------------------------------------------------------------\u001B[0m",
      "\u001B[1;31mTypeError\u001B[0m                                 Traceback (most recent call last)",
      "Cell \u001B[1;32mIn[45], line 1\u001B[0m\n\u001B[1;32m----> 1\u001B[0m maze \u001B[38;5;241m=\u001B[39m \u001B[43mgenerate_maze\u001B[49m\u001B[43m(\u001B[49m\u001B[43mN\u001B[49m\u001B[43m)\u001B[49m\n",
      "\u001B[1;31mTypeError\u001B[0m: generate_maze() takes 0 positional arguments but 1 was given"
     ]
    }
   ],
   "source": [
    "maze = generate_maze(N)"
   ]
  },
  {
   "cell_type": "code",
   "execution_count": 46,
   "id": "d8631fe0-4bef-46a8-a3f8-0efe01f9393a",
   "metadata": {
    "ExecuteTime": {
     "end_time": "2024-03-19T00:08:00.873099Z",
     "start_time": "2024-03-19T00:08:00.868728Z"
    }
   },
   "outputs": [],
   "source": [
    "def draw_maze(maze: list[MazeCell]):\n",
    "  for cell in maze:\n",
    "    if cell.walls[0]:\n",
    "      start_x, end_x = cell.x, cell.x + 1\n",
    "      start_y, end_y = N - cell.y, N - cell.y\n",
    "      plt.plot([start_x, end_x], [start_y, end_y], 'b-', lw=2)\n",
    "\n",
    "    if cell.walls[1]:\n",
    "      start_x, end_x = cell.x + 1, cell.x + 1\n",
    "      start_y, end_y = N - cell.y, N - cell.y - 1\n",
    "      plt.plot([start_x, end_x], [start_y, end_y], 'r-', lw=2)\n",
    "\n",
    "    if cell.walls[2]:\n",
    "      start_x, end_x = cell.x, cell.x + 1\n",
    "      start_y, end_y = N - cell.y - 1, N - cell.y - 1\n",
    "      plt.plot([start_x, end_x], [start_y, end_y], 'g-', lw=2)\n",
    "\n",
    "    if cell.walls[3]:\n",
    "      start_x, end_x = cell.x, cell.x\n",
    "      start_y, end_y = N - cell.y, N - cell.y - 1\n",
    "      plt.plot([start_x, end_x], [start_y, end_y], 'm-', lw=2)\n",
    "      "
   ]
  },
  {
   "cell_type": "code",
   "execution_count": 47,
   "id": "f5756126-381a-4d75-bd19-80f70e8a4e0a",
   "metadata": {
    "ExecuteTime": {
     "end_time": "2024-03-19T00:08:00.964350Z",
     "start_time": "2024-03-19T00:08:00.936805Z"
    }
   },
   "outputs": [
    {
     "ename": "NameError",
     "evalue": "name 'maze' is not defined",
     "output_type": "error",
     "traceback": [
      "\u001B[1;31m---------------------------------------------------------------------------\u001B[0m",
      "\u001B[1;31mNameError\u001B[0m                                 Traceback (most recent call last)",
      "Cell \u001B[1;32mIn[47], line 3\u001B[0m\n\u001B[0;32m      1\u001B[0m fig \u001B[38;5;241m=\u001B[39m plt\u001B[38;5;241m.\u001B[39mfigure(figsize\u001B[38;5;241m=\u001B[39m(\u001B[38;5;241m10\u001B[39m, \u001B[38;5;241m10\u001B[39m))\n\u001B[1;32m----> 3\u001B[0m draw_maze(\u001B[43mmaze\u001B[49m)\n\u001B[0;32m      5\u001B[0m plt\u001B[38;5;241m.\u001B[39mshow()\n",
      "\u001B[1;31mNameError\u001B[0m: name 'maze' is not defined"
     ]
    },
    {
     "data": {
      "text/plain": "<Figure size 1000x1000 with 0 Axes>"
     },
     "metadata": {},
     "output_type": "display_data"
    }
   ],
   "source": [
    "fig = plt.figure(figsize=(10, 10))\n",
    "                    \n",
    "draw_maze(maze)\n",
    "\n",
    "plt.show()"
   ]
  },
  {
   "cell_type": "markdown",
   "source": [],
   "metadata": {
    "collapsed": false
   },
   "id": "ad221426c4acc37a"
  }
 ],
 "metadata": {
  "kernelspec": {
   "display_name": "Python 3 (ipykernel)",
   "language": "python",
   "name": "python3"
  },
  "language_info": {
   "codemirror_mode": {
    "name": "ipython",
    "version": 3
   },
   "file_extension": ".py",
   "mimetype": "text/x-python",
   "name": "python",
   "nbconvert_exporter": "python",
   "pygments_lexer": "ipython3",
   "version": "3.11.8"
  }
 },
 "nbformat": 4,
 "nbformat_minor": 5
}
